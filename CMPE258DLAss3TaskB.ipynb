{
  "nbformat": 4,
  "nbformat_minor": 0,
  "metadata": {
    "colab": {
      "provenance": [],
      "gpuType": "T4"
    },
    "kernelspec": {
      "name": "python3",
      "display_name": "Python 3"
    },
    "language_info": {
      "name": "python"
    },
    "accelerator": "GPU"
  },
  "cells": [
    {
      "cell_type": "code",
      "execution_count": 1,
      "metadata": {
        "colab": {
          "base_uri": "https://localhost:8080/"
        },
        "id": "ZZ_WM2hkfs12",
        "outputId": "1385e918-1591-445f-fcb2-06815fbf4d75"
      },
      "outputs": [
        {
          "output_type": "stream",
          "name": "stdout",
          "text": [
            "PyTorch Version: 2.5.1+cu124\n",
            "GPU Available: True\n"
          ]
        }
      ],
      "source": [
        "import torch\n",
        "print(\"PyTorch Version:\", torch.__version__)\n",
        "print(\"GPU Available:\", torch.cuda.is_available())\n"
      ]
    },
    {
      "cell_type": "code",
      "source": [
        "# Creating basic tensors\n",
        "scalar = torch.tensor(10)  # Scalar tensor\n",
        "vector = torch.tensor([1, 2, 3, 4])  # Vector tensor\n",
        "matrix = torch.tensor([[1, 2], [3, 4]])  # Matrix tensor\n",
        "tensor_3d = torch.rand((2, 3, 4))  # 3D tensor with random values\n",
        "\n",
        "# Print tensors\n",
        "print(\"Scalar:\", scalar)\n",
        "print(\"Vector:\", vector)\n",
        "print(\"Matrix:\\n\", matrix)\n",
        "print(\"3D Tensor:\\n\", tensor_3d)\n",
        "\n",
        "# Tensor attributes\n",
        "print(\"\\nAttributes of 3D tensor:\")\n",
        "print(\"Shape:\", tensor_3d.shape)\n",
        "print(\"Rank (ndim):\", tensor_3d.ndim)\n",
        "print(\"Data Type:\", tensor_3d.dtype)\n",
        "print(\"Device:\", tensor_3d.device)\n",
        "print(\"Size (total elements):\", tensor_3d.numel())\n"
      ],
      "metadata": {
        "colab": {
          "base_uri": "https://localhost:8080/"
        },
        "id": "g-op8mM_hEQg",
        "outputId": "1dfaedce-81ea-4089-a7a7-437a14eba8f7"
      },
      "execution_count": 2,
      "outputs": [
        {
          "output_type": "stream",
          "name": "stdout",
          "text": [
            "Scalar: tensor(10)\n",
            "Vector: tensor([1, 2, 3, 4])\n",
            "Matrix:\n",
            " tensor([[1, 2],\n",
            "        [3, 4]])\n",
            "3D Tensor:\n",
            " tensor([[[0.2679, 0.0673, 0.9103, 0.2175],\n",
            "         [0.4749, 0.0816, 0.4531, 0.1029],\n",
            "         [0.7441, 0.0234, 0.1940, 0.8755]],\n",
            "\n",
            "        [[0.3239, 0.4338, 0.9798, 0.3904],\n",
            "         [0.6626, 0.2398, 0.2591, 0.1302],\n",
            "         [0.2850, 0.0802, 0.6759, 0.4057]]])\n",
            "\n",
            "Attributes of 3D tensor:\n",
            "Shape: torch.Size([2, 3, 4])\n",
            "Rank (ndim): 3\n",
            "Data Type: torch.float32\n",
            "Device: cpu\n",
            "Size (total elements): 24\n"
          ]
        }
      ]
    },
    {
      "cell_type": "code",
      "source": [
        "# Create a tensor for indexing and slicing\n",
        "tensor_2d = torch.tensor([[10, 20, 30], [40, 50, 60], [70, 80, 90]])\n",
        "print(\"Original Tensor:\\n\", tensor_2d)\n",
        "\n",
        "# Indexing single element\n",
        "print(\"\\nSingle Element [0, 1]:\", tensor_2d[0, 1].item())\n",
        "\n",
        "# Slicing rows\n",
        "print(\"\\nFirst Row:\", tensor_2d[0])\n",
        "print(\"Last two Rows:\\n\", tensor_2d[1:])\n",
        "\n",
        "# Slicing columns\n",
        "print(\"\\nSecond Column:\", tensor_2d[:, 1])\n",
        "\n",
        "# Advanced slicing (submatrix)\n",
        "print(\"\\nSubmatrix (first two rows, last two columns):\\n\", tensor_2d[:2, 1:])\n"
      ],
      "metadata": {
        "colab": {
          "base_uri": "https://localhost:8080/"
        },
        "id": "_9Vjn6koh4r_",
        "outputId": "c696dbe7-b912-4445-f8a7-9e4755571a6a"
      },
      "execution_count": 4,
      "outputs": [
        {
          "output_type": "stream",
          "name": "stdout",
          "text": [
            "Original Tensor:\n",
            " tensor([[10, 20, 30],\n",
            "        [40, 50, 60],\n",
            "        [70, 80, 90]])\n",
            "\n",
            "Single Element [0, 1]: 20\n",
            "\n",
            "First Row: tensor([10, 20, 30])\n",
            "Last two Rows:\n",
            " tensor([[40, 50, 60],\n",
            "        [70, 80, 90]])\n",
            "\n",
            "Second Column: tensor([20, 50, 80])\n",
            "\n",
            "Submatrix (first two rows, last two columns):\n",
            " tensor([[20, 30],\n",
            "        [50, 60]])\n"
          ]
        }
      ]
    },
    {
      "cell_type": "code",
      "source": [
        "# Original tensor\n",
        "tensor = torch.tensor([[1, 2, 3], [4, 5, 6]])\n",
        "print(\"Original Tensor:\\n\", tensor)\n",
        "\n",
        "# Reshape tensor to (3, 2)\n",
        "reshaped_tensor = tensor.reshape(3, 2)\n",
        "print(\"\\nReshaped Tensor (3,2):\\n\", reshaped_tensor)\n",
        "\n",
        "# Unsqueeze tensor for broadcasting (adds dimension)\n",
        "expanded_tensor = tensor.unsqueeze(-1)  # shape (2,3,1)\n",
        "print(\"\\nExpanded Tensor shape:\", expanded_tensor.shape)\n",
        "\n",
        "# Broadcasting example\n",
        "broadcast_tensor = tensor + torch.tensor([10, 20, 30])  # Adds to each row\n",
        "print(\"\\nBroadcasted Addition:\\n\", broadcast_tensor)\n"
      ],
      "metadata": {
        "colab": {
          "base_uri": "https://localhost:8080/"
        },
        "id": "Z2WcQGiWiJS0",
        "outputId": "3898acb4-d45e-47f5-deb6-96acf963544b"
      },
      "execution_count": 5,
      "outputs": [
        {
          "output_type": "stream",
          "name": "stdout",
          "text": [
            "Original Tensor:\n",
            " tensor([[1, 2, 3],\n",
            "        [4, 5, 6]])\n",
            "\n",
            "Reshaped Tensor (3,2):\n",
            " tensor([[1, 2],\n",
            "        [3, 4],\n",
            "        [5, 6]])\n",
            "\n",
            "Expanded Tensor shape: torch.Size([2, 3, 1])\n",
            "\n",
            "Broadcasted Addition:\n",
            " tensor([[11, 22, 33],\n",
            "        [14, 25, 36]])\n"
          ]
        }
      ]
    },
    {
      "cell_type": "code",
      "source": [
        "# Define two tensors\n",
        "tensor_a = torch.tensor([[1, 2], [3, 4]])\n",
        "tensor_b = torch.tensor([[5, 6], [7, 8]])\n",
        "\n",
        "# Arithmetic operations\n",
        "add_result = tensor_a + tensor_b\n",
        "subtract_result = tensor_b - tensor_a\n",
        "multiply_result = tensor_a * tensor_b  # Element-wise multiplication\n",
        "divide_result = tensor_b / tensor_a\n",
        "\n",
        "# Matrix multiplication\n",
        "matmul_result = torch.matmul(tensor_a, tensor_b)\n",
        "matmul_operator_result = tensor_a @ tensor_b\n",
        "\n",
        "# Display the results\n",
        "print(\"Addition:\\n\", add_result)\n",
        "print(\"\\nSubtraction:\\n\", subtract_result)\n",
        "print(\"\\nElement-wise Multiplication:\\n\", multiply_result)\n",
        "print(\"\\nElement-wise Division:\\n\", divide_result)\n",
        "print(\"\\nMatrix multiplication with torch.matmul():\\n\", matmul_result)\n",
        "print(\"\\nMatrix multiplication with '@' operator:\\n\", matmul_operator_result)\n"
      ],
      "metadata": {
        "colab": {
          "base_uri": "https://localhost:8080/"
        },
        "id": "egh3eBhgi07O",
        "outputId": "6ff34082-c01b-44e1-fa47-c074bc45408f"
      },
      "execution_count": 6,
      "outputs": [
        {
          "output_type": "stream",
          "name": "stdout",
          "text": [
            "Addition:\n",
            " tensor([[ 6,  8],\n",
            "        [10, 12]])\n",
            "\n",
            "Subtraction:\n",
            " tensor([[4, 4],\n",
            "        [4, 4]])\n",
            "\n",
            "Element-wise Multiplication:\n",
            " tensor([[ 5, 12],\n",
            "        [21, 32]])\n",
            "\n",
            "Element-wise Division:\n",
            " tensor([[5.0000, 3.0000],\n",
            "        [2.3333, 2.0000]])\n",
            "\n",
            "Matrix multiplication with torch.matmul():\n",
            " tensor([[19, 22],\n",
            "        [43, 50]])\n",
            "\n",
            "Matrix multiplication with '@' operator:\n",
            " tensor([[19, 22],\n",
            "        [43, 50]])\n"
          ]
        }
      ]
    },
    {
      "cell_type": "code",
      "source": [
        "# Define a tensor\n",
        "tensor = torch.tensor([[1, 2, 3], [4, 5, 6]])\n",
        "\n",
        "# Reduction operations\n",
        "sum_all = torch.sum(tensor)\n",
        "sum_columns = torch.sum(tensor, axis=0)\n",
        "sum_rows = torch.sum(tensor, axis=1)\n",
        "\n",
        "mean_all = torch.mean(tensor.float())\n",
        "max_value = torch.max(tensor)\n",
        "min_value = torch.min(tensor)\n",
        "\n",
        "# Display results\n",
        "print(\"Sum of all elements:\", sum_all.item())\n",
        "print(\"Sum across columns:\", sum_columns)\n",
        "print(\"Sum across rows:\", sum_rows)\n",
        "\n",
        "print(\"\\nMean of all elements:\", mean_all.item())\n",
        "print(\"Max value in tensor:\", max_value.item())\n",
        "print(\"Min value in tensor:\", min_value.item())\n"
      ],
      "metadata": {
        "colab": {
          "base_uri": "https://localhost:8080/"
        },
        "id": "GbkWuK9bjKHG",
        "outputId": "bf5dc0f5-1258-456e-9745-eb6a64669a8f"
      },
      "execution_count": 7,
      "outputs": [
        {
          "output_type": "stream",
          "name": "stdout",
          "text": [
            "Sum of all elements: 21\n",
            "Sum across columns: tensor([5, 7, 9])\n",
            "Sum across rows: tensor([ 6, 15])\n",
            "\n",
            "Mean of all elements: 3.5\n",
            "Max value in tensor: 6\n",
            "Min value in tensor: 1\n"
          ]
        }
      ]
    },
    {
      "cell_type": "code",
      "source": [
        "# Define tensors\n",
        "tensor_x = torch.tensor([[1, 2], [3, 4]])\n",
        "tensor_y = torch.tensor([[5, 6], [7, 8]])\n",
        "\n",
        "# Concatenate along rows and columns\n",
        "concat_rows = torch.cat([tensor_x, tensor_y], dim=0)\n",
        "concat_columns = torch.cat([tensor_x, tensor_y], dim=1)\n",
        "\n",
        "# Stack tensors (new dimension)\n",
        "stacked_tensor = torch.stack([tensor_x, tensor_y])\n",
        "\n",
        "# Splitting tensor\n",
        "split_tensors = torch.split(concat_rows, split_size_or_sections=2, dim=0)\n",
        "\n",
        "# Display results\n",
        "print(\"Concatenated along rows:\\n\", concat_rows)\n",
        "print(\"\\nConcatenated along columns:\\n\", concat_columns)\n",
        "print(\"\\nStacked tensor (new dimension):\\n\", stacked_tensor)\n",
        "print(\"\\nSplit tensors:\")\n",
        "for idx, t in enumerate(split_tensors):\n",
        "    print(f\"Tensor {idx+1}:\\n\", t)\n"
      ],
      "metadata": {
        "colab": {
          "base_uri": "https://localhost:8080/"
        },
        "id": "f4EmEQw_jZ_r",
        "outputId": "2ef32eba-8d4c-4a54-a7ff-17c2a24a95b2"
      },
      "execution_count": 8,
      "outputs": [
        {
          "output_type": "stream",
          "name": "stdout",
          "text": [
            "Concatenated along rows:\n",
            " tensor([[1, 2],\n",
            "        [3, 4],\n",
            "        [5, 6],\n",
            "        [7, 8]])\n",
            "\n",
            "Concatenated along columns:\n",
            " tensor([[1, 2, 5, 6],\n",
            "        [3, 4, 7, 8]])\n",
            "\n",
            "Stacked tensor (new dimension):\n",
            " tensor([[[1, 2],\n",
            "         [3, 4]],\n",
            "\n",
            "        [[5, 6],\n",
            "         [7, 8]]])\n",
            "\n",
            "Split tensors:\n",
            "Tensor 1:\n",
            " tensor([[1, 2],\n",
            "        [3, 4]])\n",
            "Tensor 2:\n",
            " tensor([[5, 6],\n",
            "        [7, 8]])\n"
          ]
        }
      ]
    },
    {
      "cell_type": "code",
      "source": [
        "# Define tensors\n",
        "a = torch.tensor([[1, 2], [3, 4]])\n",
        "b = torch.tensor([[5, 6], [7, 8]])\n",
        "\n",
        "# Matrix multiplication using einsum\n",
        "matmul_einsum = torch.einsum('ij,jk->ik', a, b)\n",
        "\n",
        "# Dot product using einsum\n",
        "dot_product = torch.einsum('ij,ij->', a, b)\n",
        "\n",
        "# Transpose operation\n",
        "transpose_a = torch.einsum('ij->ji', a)\n",
        "\n",
        "# Batch matrix multiplication example\n",
        "a_batch = torch.rand((3, 2, 3))\n",
        "b_batch = torch.rand((3, 3, 4))\n",
        "batch_matmul = torch.einsum('bij,bjk->bik', a_batch, b_batch)\n",
        "\n",
        "# Display results\n",
        "print(\"Matrix multiplication (einsum):\\n\", matmul_einsum)\n",
        "print(\"\\nDot product (einsum):\", dot_product.item())\n",
        "print(\"\\nTranspose (einsum):\\n\", transpose_a)\n",
        "print(\"\\nBatch matrix multiplication shape (einsum):\", batch_matmul.shape)\n"
      ],
      "metadata": {
        "colab": {
          "base_uri": "https://localhost:8080/"
        },
        "id": "BoXrdMX4jv-2",
        "outputId": "d065d32d-506a-4fc6-cdd8-fc148ac3c163"
      },
      "execution_count": 9,
      "outputs": [
        {
          "output_type": "stream",
          "name": "stdout",
          "text": [
            "Matrix multiplication (einsum):\n",
            " tensor([[19, 22],\n",
            "        [43, 50]])\n",
            "\n",
            "Dot product (einsum): 70\n",
            "\n",
            "Transpose (einsum):\n",
            " tensor([[1, 3],\n",
            "        [2, 4]])\n",
            "\n",
            "Batch matrix multiplication shape (einsum): torch.Size([3, 2, 4])\n"
          ]
        }
      ]
    },
    {
      "cell_type": "code",
      "source": [
        "!pip install einops"
      ],
      "metadata": {
        "colab": {
          "base_uri": "https://localhost:8080/"
        },
        "id": "AnXnmcf1j7_1",
        "outputId": "22df2d0a-0c12-48a3-d254-793400068f62"
      },
      "execution_count": 10,
      "outputs": [
        {
          "output_type": "stream",
          "name": "stdout",
          "text": [
            "Requirement already satisfied: einops in /usr/local/lib/python3.11/dist-packages (0.8.1)\n"
          ]
        }
      ]
    },
    {
      "cell_type": "code",
      "source": [
        "from einops import rearrange, reduce, repeat\n",
        "import torch\n",
        "\n",
        "# Original tensor\n",
        "tensor = torch.randn(2, 3, 4)\n",
        "print(\"Original Tensor shape:\", tensor.shape)\n",
        "\n",
        "# Rearrange (transpose-like operation)\n",
        "rearranged_tensor = rearrange(tensor, 'b h w -> b w h')\n",
        "print(\"\\nRearranged Tensor shape:\", rearranged_tensor.shape)\n",
        "\n",
        "# Reduce (sum across one dimension)\n",
        "reduced_tensor = reduce(tensor, 'b h w -> b h', 'sum')\n",
        "print(\"\\nReduced Tensor shape (sum across last dim):\", reduced_tensor.shape)\n",
        "\n",
        "# Repeat tensor\n",
        "repeated_tensor = repeat(tensor, 'b h w -> b h w repeat', repeat=2)\n",
        "print(\"\\nRepeated Tensor shape:\", repeated_tensor.shape)\n"
      ],
      "metadata": {
        "colab": {
          "base_uri": "https://localhost:8080/"
        },
        "id": "zyEi-y7ekD_O",
        "outputId": "019963e2-346e-469b-9be5-a8d252b4ad8f"
      },
      "execution_count": 11,
      "outputs": [
        {
          "output_type": "stream",
          "name": "stdout",
          "text": [
            "Original Tensor shape: torch.Size([2, 3, 4])\n",
            "\n",
            "Rearranged Tensor shape: torch.Size([2, 4, 3])\n",
            "\n",
            "Reduced Tensor shape (sum across last dim): torch.Size([2, 3])\n",
            "\n",
            "Repeated Tensor shape: torch.Size([2, 3, 4, 2])\n"
          ]
        }
      ]
    }
  ]
}