{
  "nbformat": 4,
  "nbformat_minor": 0,
  "metadata": {
    "colab": {
      "provenance": []
    },
    "kernelspec": {
      "name": "python3",
      "display_name": "Python 3"
    },
    "language_info": {
      "name": "python"
    }
  },
  "cells": [
    {
      "cell_type": "code",
      "execution_count": 1,
      "metadata": {
        "colab": {
          "base_uri": "https://localhost:8080/"
        },
        "id": "YO4vpUXEYfhW",
        "outputId": "1f78b9eb-2581-49db-cda7-c0469e88e325"
      },
      "outputs": [
        {
          "output_type": "stream",
          "name": "stdout",
          "text": [
            "TensorFlow Version: 2.18.0\n"
          ]
        }
      ],
      "source": [
        "import tensorflow as tf\n",
        "print(\"TensorFlow Version:\", tf.__version__)"
      ]
    },
    {
      "cell_type": "code",
      "source": [
        "# Create different types of tensors\n",
        "scalar = tf.constant(10)  # Scalar tensor\n",
        "vector = tf.constant([1, 2, 3, 4])  # Vector tensor\n",
        "matrix = tf.constant([[1, 2], [3, 4]])  # Matrix tensor\n",
        "tensor_3d = tf.random.uniform(shape=(2, 3, 4))  # 3-dimensional tensor with random values\n",
        "\n",
        "# Print tensors\n",
        "print(\"Scalar:\", scalar)\n",
        "print(\"Vector:\", vector)\n",
        "print(\"Matrix:\\n\", matrix)\n",
        "print(\"3D Tensor:\\n\", tensor_3d)\n",
        "\n",
        "# Tensor attributes\n",
        "print(\"\\nAttributes of 3D tensor:\")\n",
        "print(\"Shape:\", tensor_3d.shape)\n",
        "print(\"Rank:\", tensor_3d.ndim)\n",
        "print(\"Data Type:\", tensor_3d.dtype)\n",
        "print(\"Size (total elements):\", tf.size(tensor_3d).numpy())\n"
      ],
      "metadata": {
        "colab": {
          "base_uri": "https://localhost:8080/"
        },
        "id": "sJFe0JrdZLH-",
        "outputId": "1d4f356e-7ea6-4e97-baba-687a27a26844"
      },
      "execution_count": 2,
      "outputs": [
        {
          "output_type": "stream",
          "name": "stdout",
          "text": [
            "Scalar: tf.Tensor(10, shape=(), dtype=int32)\n",
            "Vector: tf.Tensor([1 2 3 4], shape=(4,), dtype=int32)\n",
            "Matrix:\n",
            " tf.Tensor(\n",
            "[[1 2]\n",
            " [3 4]], shape=(2, 2), dtype=int32)\n",
            "3D Tensor:\n",
            " tf.Tensor(\n",
            "[[[0.26546013 0.12575948 0.23182845 0.62575746]\n",
            "  [0.78491044 0.51070046 0.47100508 0.31743848]\n",
            "  [0.38127995 0.76864874 0.39638603 0.6896615 ]]\n",
            "\n",
            " [[0.16726863 0.7004707  0.01327777 0.910341  ]\n",
            "  [0.5044761  0.90391207 0.10856915 0.7494    ]\n",
            "  [0.06809115 0.4373542  0.10621142 0.8720951 ]]], shape=(2, 3, 4), dtype=float32)\n",
            "\n",
            "Attributes of 3D tensor:\n",
            "Shape: (2, 3, 4)\n",
            "Rank: 3\n",
            "Data Type: <dtype: 'float32'>\n",
            "Size (total elements): 24\n"
          ]
        }
      ]
    },
    {
      "cell_type": "code",
      "source": [
        "# Create a 2D tensor for demonstration\n",
        "tensor_2d = tf.constant([[10, 20, 30], [40, 50, 60], [70, 80, 90]])\n",
        "print(\"Original Tensor:\\n\", tensor_2d.numpy())\n",
        "\n",
        "# Indexing single element\n",
        "print(\"\\nSingle Element [0, 1]:\", tensor_2d[0, 1].numpy())\n",
        "\n",
        "# Slicing rows\n",
        "print(\"\\nFirst Row:\", tensor_2d[0].numpy())\n",
        "print(\"Last two Rows:\\n\", tensor_2d[1:].numpy())\n",
        "\n",
        "# Slicing columns\n",
        "print(\"\\nSecond Column:\", tensor_2d[:, 1].numpy())\n",
        "\n",
        "# Advanced slicing (submatrix)\n",
        "print(\"\\nSubmatrix (first two rows, last two columns):\\n\", tensor_2d[:2, 1:].numpy())\n"
      ],
      "metadata": {
        "colab": {
          "base_uri": "https://localhost:8080/"
        },
        "id": "Uw1n6U8LaWmP",
        "outputId": "1e8e1999-5837-462f-f73e-8e4bfe7b00d2"
      },
      "execution_count": 3,
      "outputs": [
        {
          "output_type": "stream",
          "name": "stdout",
          "text": [
            "Original Tensor:\n",
            " [[10 20 30]\n",
            " [40 50 60]\n",
            " [70 80 90]]\n",
            "\n",
            "Single Element [0, 1]: 20\n",
            "\n",
            "First Row: [10 20 30]\n",
            "Last two Rows:\n",
            " [[40 50 60]\n",
            " [70 80 90]]\n",
            "\n",
            "Second Column: [20 50 80]\n",
            "\n",
            "Submatrix (first two rows, last two columns):\n",
            " [[20 30]\n",
            " [50 60]]\n"
          ]
        }
      ]
    },
    {
      "cell_type": "code",
      "source": [
        "# Original tensor\n",
        "tensor = tf.constant([[1, 2, 3], [4, 5, 6]])\n",
        "print(\"Original Tensor:\\n\", tensor.numpy())\n",
        "\n",
        "# Reshape tensor to (3, 2)\n",
        "reshaped_tensor = tf.reshape(tensor, (3, 2))\n",
        "print(\"\\nReshaped Tensor (3,2):\\n\", reshaped_tensor.numpy())\n",
        "\n",
        "# Expand dimensions for broadcasting\n",
        "expanded_tensor = tf.expand_dims(tensor, axis=-1)  # shape becomes (2,3,1)\n",
        "print(\"\\nExpanded Tensor shape:\", expanded_tensor.shape)\n",
        "\n",
        "# Broadcasting example\n",
        "broadcast_tensor = tensor + tf.constant([10, 20, 30])  # Adds to each row\n",
        "print(\"\\nBroadcasted Addition:\\n\", broadcast_tensor.numpy())\n"
      ],
      "metadata": {
        "colab": {
          "base_uri": "https://localhost:8080/"
        },
        "id": "P9u4VgclbHZg",
        "outputId": "8887a804-9b94-48db-8d0e-ac8bd36f213d"
      },
      "execution_count": 4,
      "outputs": [
        {
          "output_type": "stream",
          "name": "stdout",
          "text": [
            "Original Tensor:\n",
            " [[1 2 3]\n",
            " [4 5 6]]\n",
            "\n",
            "Reshaped Tensor (3,2):\n",
            " [[1 2]\n",
            " [3 4]\n",
            " [5 6]]\n",
            "\n",
            "Expanded Tensor shape: (2, 3, 1)\n",
            "\n",
            "Broadcasted Addition:\n",
            " [[11 22 33]\n",
            " [14 25 36]]\n"
          ]
        }
      ]
    },
    {
      "cell_type": "code",
      "source": [
        "# Create two tensors\n",
        "tensor_a = tf.constant([[1, 2], [3, 4]])\n",
        "tensor_b = tf.constant([[5, 6], [7, 8]])\n",
        "\n",
        "# Arithmetic operations\n",
        "add_result = tensor_a + tensor_b\n",
        "subtract_result = tensor_b - tensor_a\n",
        "multiply_result = tensor_a * tensor_b  # Element-wise multiplication\n",
        "divide_result = tensor_b / tensor_a\n",
        "\n",
        "# Using tf.math module\n",
        "square_result = tf.math.square(tensor_a)\n",
        "sqrt_result = tf.math.sqrt(tf.cast(tensor_b, tf.float32))\n",
        "\n",
        "# Display the results\n",
        "print(\"Addition:\\n\", add_result.numpy())\n",
        "print(\"\\nSubtraction:\\n\", subtract_result.numpy())\n",
        "print(\"\\nElement-wise Multiplication:\\n\", multiply_result.numpy())\n",
        "print(\"\\nElement-wise Division:\\n\", divide_result.numpy())\n",
        "print(\"\\nSquare (tf.math.square):\\n\", square_result.numpy())\n",
        "print(\"\\nSquare Root (tf.math.sqrt):\\n\", sqrt_result.numpy())\n"
      ],
      "metadata": {
        "colab": {
          "base_uri": "https://localhost:8080/"
        },
        "id": "GTIAFKIwboBq",
        "outputId": "2578cff4-5a0f-4530-cdbe-50e8867f611c"
      },
      "execution_count": 5,
      "outputs": [
        {
          "output_type": "stream",
          "name": "stdout",
          "text": [
            "Addition:\n",
            " [[ 6  8]\n",
            " [10 12]]\n",
            "\n",
            "Subtraction:\n",
            " [[4 4]\n",
            " [4 4]]\n",
            "\n",
            "Element-wise Multiplication:\n",
            " [[ 5 12]\n",
            " [21 32]]\n",
            "\n",
            "Element-wise Division:\n",
            " [[5.         3.        ]\n",
            " [2.33333333 2.        ]]\n",
            "\n",
            "Square (tf.math.square):\n",
            " [[ 1  4]\n",
            " [ 9 16]]\n",
            "\n",
            "Square Root (tf.math.sqrt):\n",
            " [[2.236068  2.4494898]\n",
            " [2.6457512 2.828427 ]]\n"
          ]
        }
      ]
    },
    {
      "cell_type": "code",
      "source": [
        "# Define two matrices\n",
        "matrix_x = tf.constant([[1, 2, 3], [4, 5, 6]])\n",
        "matrix_y = tf.constant([[7, 8], [9, 10], [11, 12]])\n",
        "\n",
        "# Matrix multiplication using tf.matmul()\n",
        "matmul_result = tf.matmul(matrix_x, matrix_y)\n",
        "\n",
        "# Matrix multiplication using '@' operator\n",
        "matmul_operator_result = matrix_x @ matrix_y\n",
        "\n",
        "# Display results\n",
        "print(\"Matrix multiplication with tf.matmul():\\n\", matmul_result.numpy())\n",
        "print(\"\\nMatrix multiplication with '@' operator:\\n\", matmul_operator_result.numpy())\n"
      ],
      "metadata": {
        "colab": {
          "base_uri": "https://localhost:8080/"
        },
        "id": "ei_xQLLTcR-j",
        "outputId": "b2daa55a-9439-44b8-8191-c290440f188a"
      },
      "execution_count": 6,
      "outputs": [
        {
          "output_type": "stream",
          "name": "stdout",
          "text": [
            "Matrix multiplication with tf.matmul():\n",
            " [[ 58  64]\n",
            " [139 154]]\n",
            "\n",
            "Matrix multiplication with '@' operator:\n",
            " [[ 58  64]\n",
            " [139 154]]\n"
          ]
        }
      ]
    },
    {
      "cell_type": "code",
      "source": [
        "# Define a tensor\n",
        "tensor = tf.constant([[1, 2, 3], [4, 5, 6]])\n",
        "\n",
        "# Reduction operations\n",
        "sum_all = tf.reduce_sum(tensor)\n",
        "sum_columns = tf.reduce_sum(tensor, axis=0)\n",
        "sum_rows = tf.reduce_sum(tensor, axis=1)\n",
        "\n",
        "mean_all = tf.reduce_mean(tf.cast(tensor, tf.float32))\n",
        "max_value = tf.reduce_max(tensor)\n",
        "\n",
        "# Display results\n",
        "print(\"Sum of all elements:\", sum_all.numpy())\n",
        "print(\"Sum across columns:\", sum_columns.numpy())\n",
        "print(\"Sum across rows:\", sum_rows.numpy())\n",
        "\n",
        "print(\"\\nMean of all elements:\", mean_all.numpy())\n",
        "print(\"Max value in tensor:\", max_value.numpy())\n"
      ],
      "metadata": {
        "colab": {
          "base_uri": "https://localhost:8080/"
        },
        "id": "YUSW_Ps0dLb_",
        "outputId": "d2859781-68df-4637-b3c4-daab2b69c685"
      },
      "execution_count": 7,
      "outputs": [
        {
          "output_type": "stream",
          "name": "stdout",
          "text": [
            "Sum of all elements: 21\n",
            "Sum across columns: [5 7 9]\n",
            "Sum across rows: [ 6 15]\n",
            "\n",
            "Mean of all elements: 3.5\n",
            "Max value in tensor: 6\n"
          ]
        }
      ]
    },
    {
      "cell_type": "code",
      "source": [
        "# Define two tensors for concatenation and stacking\n",
        "tensor_x = tf.constant([[1, 2], [3, 4]])\n",
        "tensor_y = tf.constant([[5, 6], [7, 8]])\n",
        "\n",
        "# Concatenate along rows and columns\n",
        "concat_rows = tf.concat([tensor_x, tensor_y], axis=0)\n",
        "concat_columns = tf.concat([tensor_x, tensor_y], axis=1)\n",
        "\n",
        "# Stack tensors (new dimension)\n",
        "stacked_tensor = tf.stack([tensor_x, tensor_y])\n",
        "\n",
        "# Splitting tensor\n",
        "split_tensors = tf.split(concat_rows, num_or_size_splits=2, axis=0)\n",
        "\n",
        "# Display results\n",
        "print(\"Concatenated along rows:\\n\", concat_rows.numpy())\n",
        "print(\"\\nConcatenated along columns:\\n\", concat_columns.numpy())\n",
        "print(\"\\nStacked tensor (new dimension):\\n\", stacked_tensor.numpy())\n",
        "print(\"\\nSplit tensors:\")\n",
        "for idx, t in enumerate(split_tensors):\n",
        "    print(f\"Tensor {idx+1}:\\n\", t.numpy())\n"
      ],
      "metadata": {
        "colab": {
          "base_uri": "https://localhost:8080/"
        },
        "id": "ALANnmxyd10v",
        "outputId": "f41610c1-070e-4e13-b506-064930c90175"
      },
      "execution_count": 8,
      "outputs": [
        {
          "output_type": "stream",
          "name": "stdout",
          "text": [
            "Concatenated along rows:\n",
            " [[1 2]\n",
            " [3 4]\n",
            " [5 6]\n",
            " [7 8]]\n",
            "\n",
            "Concatenated along columns:\n",
            " [[1 2 5 6]\n",
            " [3 4 7 8]]\n",
            "\n",
            "Stacked tensor (new dimension):\n",
            " [[[1 2]\n",
            "  [3 4]]\n",
            "\n",
            " [[5 6]\n",
            "  [7 8]]]\n",
            "\n",
            "Split tensors:\n",
            "Tensor 1:\n",
            " [[1 2]\n",
            " [3 4]]\n",
            "Tensor 2:\n",
            " [[5 6]\n",
            " [7 8]]\n"
          ]
        }
      ]
    },
    {
      "cell_type": "code",
      "source": [
        "# Example tensors\n",
        "a = tf.constant([[1, 2], [3, 4]])\n",
        "b = tf.constant([[5, 6], [7, 8]])\n",
        "\n",
        "# Matrix multiplication using einsum\n",
        "matmul_einsum = tf.einsum('ij,jk->ik', a, b)\n",
        "\n",
        "# Element-wise multiplication and sum (dot product)\n",
        "dot_product = tf.einsum('ij,ij->', a, b)\n",
        "\n",
        "# Transpose operation\n",
        "transpose_a = tf.einsum('ij->ji', a)\n",
        "\n",
        "# Batch matrix multiplication example\n",
        "a_batch = tf.random.uniform((3, 2, 3))\n",
        "b_batch = tf.random.uniform((3, 3, 4))\n",
        "batch_matmul = tf.einsum('bij,bjk->bik', a_batch, b_batch)\n",
        "\n",
        "# Display results\n",
        "print(\"Matrix multiplication (einsum):\\n\", matmul_einsum.numpy())\n",
        "print(\"\\nDot product (einsum):\", dot_product.numpy())\n",
        "print(\"\\nTranspose (einsum):\\n\", transpose_a.numpy())\n",
        "print(\"\\nBatch matrix multiplication shape (einsum):\", batch_matmul.shape)\n"
      ],
      "metadata": {
        "colab": {
          "base_uri": "https://localhost:8080/"
        },
        "id": "I_Agnjfne42C",
        "outputId": "7a1e900c-e667-417e-bb11-09d526a1e667"
      },
      "execution_count": 9,
      "outputs": [
        {
          "output_type": "stream",
          "name": "stdout",
          "text": [
            "Matrix multiplication (einsum):\n",
            " [[19 22]\n",
            " [43 50]]\n",
            "\n",
            "Dot product (einsum): 70\n",
            "\n",
            "Transpose (einsum):\n",
            " [[1 3]\n",
            " [2 4]]\n",
            "\n",
            "Batch matrix multiplication shape (einsum): (3, 2, 4)\n"
          ]
        }
      ]
    },
    {
      "cell_type": "code",
      "source": [
        "# Create a tensor for advanced indexing and masking\n",
        "tensor = tf.constant([[1, 2], [3, 4], [5, 6]])\n",
        "\n",
        "# Boolean Masking (tf.boolean_mask)\n",
        "mask = [True, False, True]\n",
        "masked_tensor = tf.boolean_mask(tensor, mask)\n",
        "\n",
        "# Scatter operation (tf.scatter_nd)\n",
        "indices = [[0], [2]]\n",
        "updates = [100, 200]\n",
        "scatter_tensor = tf.scatter_nd(indices, updates, shape=[4])\n",
        "\n",
        "# Gather operation (tf.gather_nd)\n",
        "gathered_elements = tf.gather_nd(tensor, indices=[[0, 1], [2, 0]])\n",
        "\n",
        "# Display results\n",
        "print(\"Original tensor:\\n\", tensor.numpy())\n",
        "print(\"\\nBoolean masked tensor:\\n\", masked_tensor.numpy())\n",
        "print(\"\\nScatter tensor (tf.scatter_nd):\\n\", scatter_tensor.numpy())\n",
        "print(\"\\nGathered elements (tf.gather_nd):\", gathered_elements.numpy())\n"
      ],
      "metadata": {
        "colab": {
          "base_uri": "https://localhost:8080/"
        },
        "id": "8DK0VAyHfSrw",
        "outputId": "f1227bce-b0c0-4c62-8528-3cc6e10f0518"
      },
      "execution_count": 10,
      "outputs": [
        {
          "output_type": "stream",
          "name": "stdout",
          "text": [
            "Original tensor:\n",
            " [[1 2]\n",
            " [3 4]\n",
            " [5 6]]\n",
            "\n",
            "Boolean masked tensor:\n",
            " [[1 2]\n",
            " [5 6]]\n",
            "\n",
            "Scatter tensor (tf.scatter_nd):\n",
            " [100   0 200   0]\n",
            "\n",
            "Gathered elements (tf.gather_nd): [2 5]\n"
          ]
        }
      ]
    }
  ]
}